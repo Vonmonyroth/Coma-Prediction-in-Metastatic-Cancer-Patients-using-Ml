{
 "cells": [
  {
   "cell_type": "code",
   "execution_count": 6,
   "id": "1fcc6199-02f4-4377-84ad-f64f99e15c8d",
   "metadata": {},
   "outputs": [],
   "source": [
    "import numpy as np\n",
    "import pandas as pd\n",
    "import random as rd\n",
    "import torch\n",
    "import torch.nn as nn\n",
    "import torch.optim as optim\n",
    "import matplotlib.pyplot as plt\n",
    "from sklearn.model_selection import KFold\n",
    "from sklearn.model_selection import train_test_split"
   ]
  },
  {
   "cell_type": "code",
   "execution_count": 7,
   "id": "1db62f46-2058-46c4-bb09-a7e0377952d0",
   "metadata": {},
   "outputs": [],
   "source": [
    "def get_accuracy(Y_true, Y_pred):\n",
    "\n",
    "    assert len(Y_true ) == len(Y_pred)\n",
    "    return np.sum(Y_true == Y_pred)/len(Y_true)"
   ]
  },
  {
   "cell_type": "code",
   "execution_count": 8,
   "id": "2b0a92ca-1bc9-4945-838a-12f98597bb1e",
   "metadata": {},
   "outputs": [
    {
     "name": "stdout",
     "output_type": "stream",
     "text": [
      "Shape of the data (1001, 5)\n"
     ]
    }
   ],
   "source": [
    "data = np.genfromtxt('Dataset/metastatic_pgm.csv', delimiter=',', skip_header=0)\n",
    "\n",
    "print(f'Shape of the data {data.shape}')"
   ]
  },
  {
   "cell_type": "code",
   "execution_count": 9,
   "id": "5f0718e5-c84a-46c8-a5bf-7d669e041b40",
   "metadata": {},
   "outputs": [
    {
     "name": "stdout",
     "output_type": "stream",
     "text": [
      "Number of missing values: 5\n"
     ]
    }
   ],
   "source": [
    "# Verifying the presence of missing values\n",
    "print(f'Number of missing values: {np.isnan(data).sum()}')"
   ]
  },
  {
   "cell_type": "code",
   "execution_count": 10,
   "id": "b6a850c8-7f26-41d8-a25a-bcf7ae7c15e5",
   "metadata": {},
   "outputs": [
    {
     "name": "stdout",
     "output_type": "stream",
     "text": [
      "Shape of processed dataset (1000, 5)\n"
     ]
    }
   ],
   "source": [
    "# Removing rows with missing values\n",
    "data=data[~np.isnan(data).any(axis=1)]\n",
    "\n",
    "print(f'Shape of processed dataset {data.shape}')"
   ]
  },
  {
   "cell_type": "code",
   "execution_count": 11,
   "id": "3b87a654-40c9-4032-a8b0-b3e9255bb161",
   "metadata": {},
   "outputs": [
    {
     "name": "stdout",
     "output_type": "stream",
     "text": [
      "Number of missing values after processing: 0\n"
     ]
    }
   ],
   "source": [
    "# Verifying missing values in the processed data\n",
    "print(f'Number of missing values after processing: {np.isnan(data).sum()}')"
   ]
  },
  {
   "cell_type": "code",
   "execution_count": 12,
   "id": "aa2d659a-531f-4462-9d74-0a5d5b1f9a0f",
   "metadata": {},
   "outputs": [
    {
     "name": "stdout",
     "output_type": "stream",
     "text": [
      "Shape of Xtrain: (900, 4)\n",
      "Shape of ytrain: (900,)\n",
      "Shape of Xtest : (100, 4)\n",
      "Shape of ytest : (100,)\n"
     ]
    }
   ],
   "source": [
    "#Defind fearure and target\n",
    "X = np.delete(data,3,axis=1)\n",
    "y = data[:,3]\n",
    "\n",
    "X_tr, X_ts, y_tr, y_ts = train_test_split(X,y,test_size=0.10, random_state=102)\n",
    "print(f'Shape of Xtrain: {X_tr.shape}')\n",
    "print(f'Shape of ytrain: {y_tr.shape}')\n",
    "print(f'Shape of Xtest : {X_ts.shape}')\n",
    "print(f'Shape of ytest : {y_ts.shape}')"
   ]
  },
  {
   "cell_type": "code",
   "execution_count": 13,
   "id": "4f11d42d-09b8-41cd-b409-d1baf934dc5e",
   "metadata": {},
   "outputs": [
    {
     "name": "stdout",
     "output_type": "stream",
     "text": [
      "[[0. 0. 0. 1.]\n",
      " [1. 1. 1. 1.]\n",
      " [0. 0. 1. 1.]\n",
      " ...\n",
      " [1. 0. 1. 1.]\n",
      " [0. 0. 1. 0.]\n",
      " [0. 0. 0. 1.]]\n"
     ]
    }
   ],
   "source": [
    "print(X_tr)"
   ]
  },
  {
   "cell_type": "markdown",
   "id": "06e84f97-a2e0-489c-8920-e85050362be8",
   "metadata": {},
   "source": [
    "### Sigmoid Function\n",
    "$$\n",
    "\\sigma(z) = \\frac{1}{1 + e^{-z}}\n",
    "$$"
   ]
  },
  {
   "cell_type": "code",
   "execution_count": 14,
   "id": "be1507fe-2e16-418e-bc29-6282efc4bf1b",
   "metadata": {},
   "outputs": [],
   "source": [
    "def sigmoid(z):\n",
    "    return 1/(1+np.exp(-z))"
   ]
  },
  {
   "cell_type": "code",
   "execution_count": 10,
   "id": "876a79ac-697d-4ba9-9bf9-9d9c17b47c31",
   "metadata": {},
   "outputs": [],
   "source": [
    "# computing cost and gradient descent function\n",
    "def compute_cost(X,y,w):\n",
    "\n",
    "    N = len(y)\n",
    "    z = sigmoid(X.dot(w))\n",
    "    epsilon = 1e-5\n",
    "    cost = (1/N)*(((-y).T @ np.log(z + epsilon)) - ((1-y).T @ np.log(1-z + epsilon)))\n",
    "    return cost\n",
    "\n",
    "def gradient_descent(X, y, w, n_iters, alpha=0.01, threshold=1e-07):\n",
    "\n",
    "    N = len(y)\n",
    "    log_j = []\n",
    "    j_last = np.Inf\n",
    "    for _ in range(n_iters):\n",
    "        y_pred = sigmoid(np.dot(X, w))\n",
    "        gradient = np.dot(X.T, (y_pred - y)) / N\n",
    "        w -= alpha * gradient\n",
    "        cost = compute_cost(X, y, w)\n",
    "        log_j.append(cost)\n",
    "        if abs(j_last - cost) < threshold:\n",
    "            break\n",
    "        j_last = cost\n",
    "    return w, log_j\n",
    "\n",
    "# Defining the logistic regression training function\n",
    "def train_logreg(X_tr, y_tr, n_iters=1500):\n",
    "    \"\"\"\n",
    "    train_logreg\n",
    "    Input: X_tr - Training input attributes\n",
    "           y_tr - Training target labels\n",
    "           n_iters - number of iterations (default: 1500)\n",
    "    Output: w_star - trained model weights\n",
    "            log_j - cost history\n",
    "    \"\"\"\n",
    "    N_tr, d_tr = X_tr.shape\n",
    "\n",
    "    X_tr_b = np.hstack((X_tr, np.ones((N_tr, 1))))\n",
    "    w_init = np.zeros(d_tr + 1)\n",
    "\n",
    "    initial_cost = compute_cost(X_tr_b, y_tr, w_init)\n",
    "    print(\"Initial J(w_init, D_tr) is: \", initial_cost, \"\\n\")\n",
    "\n",
    "    w_star, log_j = gradient_descent(X_tr_b, y_tr, w_init, n_iters)\n",
    "\n",
    "    print(\"w*: \\n\", w_star, \"\\n\")\n",
    "    print(\"J(w*, D_tr): \", log_j[-1])\n",
    "\n",
    "    return w_star, log_j\n"
   ]
  },
  {
   "cell_type": "code",
   "execution_count": 11,
   "id": "26746e04-1059-4ee9-b478-56b851ede8d6",
   "metadata": {},
   "outputs": [],
   "source": [
    "def predict_logreg(X, w):\n",
    "    \"\"\"\n",
    "    predict_logreg\n",
    "    Input: X - Input attributes to predict the target output\n",
    "           w - Trained model weights\n",
    "    Output: y_pred - predicted target labels {0, 1}\n",
    "            y_prob - estimated conditional probability P(y=1|x)\n",
    "    \"\"\"\n",
    "    X_b = np.hstack((X, np.ones((X.shape[0], 1))))\n",
    "    y_prob = sigmoid(np.dot(X_b, w))\n",
    "    y_pred = (y_prob >= 0.5).astype(int)\n",
    "    return y_pred, y_prob"
   ]
  },
  {
   "cell_type": "code",
   "execution_count": 12,
   "id": "02bf56ea-854a-4f94-a387-fd6f5861d88f",
   "metadata": {},
   "outputs": [
    {
     "name": "stdout",
     "output_type": "stream",
     "text": [
      "Initial J(w_init, D_tr) is:  0.6931271807599432 \n",
      "\n",
      "w*: \n",
      " [ 0.70030582  1.02365066  2.4039436  -0.3746134  -1.81457868] \n",
      "\n",
      "J(w*, D_tr):  0.3592841554598162\n",
      "Traning set accuracy: 0.8666666666666667\n",
      "Testing set accuracy: 0.87\n"
     ]
    }
   ],
   "source": [
    "Model_logreg, log_j_logreg = train_logreg(X_tr, y_tr, 5000)\n",
    "\n",
    "# Making prediction for the train and test sets\n",
    "y_tr_pred, y_p= predict_logreg(X_tr, Model_logreg)\n",
    "y_ts_pred,y_p = predict_logreg(X_ts, Model_logreg)\n",
    "\n",
    "# Evaluating the accuracy of the model on both sets using the get accuracy function\n",
    "accuracy_train = get_accuracy(y_tr,y_tr_pred)\n",
    "accuracy_test = get_accuracy(y_ts,y_ts_pred)\n",
    "print(f\"Traning set accuracy: {accuracy_train}\")\n",
    "print(f\"Testing set accuracy: {accuracy_test}\")"
   ]
  },
  {
   "cell_type": "code",
   "execution_count": 13,
   "id": "8d308085-d821-4c78-b822-1a0539df2bf5",
   "metadata": {},
   "outputs": [
    {
     "data": {
      "image/png": "[encoded data removed]",
      "text/plain": [
       "<Figure size 640x480 with 1 Axes>"
      ]
     },
     "metadata": {},
     "output_type": "display_data"
    }
   ],
   "source": [
    "# Visualizing the learning curve\n",
    "plt.plot(log_j_logreg, c='red')\n",
    "plt.title('Learning Curve')\n",
    "plt.xlabel('Iteration')\n",
    "plt.ylabel('Cost')\n",
    "plt.show()"
   ]
  },
  {
   "cell_type": "markdown",
   "id": "a88186c9-2356-4344-a6b0-5e08c03ac0c6",
   "metadata": {},
   "source": [
    "## Decision tree"
   ]
  },
  {
   "cell_type": "markdown",
   "id": "ac60e79b-3527-4eb2-a1b4-a25c9fcd536e",
   "metadata": {},
   "source": [
    "#### Entrophy formula \n",
    "Complete the `compute_entropy()` function below to:\n",
    "* Compute $p_1$, which is the fraction of examples that are edible (i.e. have value = `1` in `y`)\n",
    "* The entropy is then calculated as \n",
    "\n",
    "$$H(p_1) = -p_1 \\text{log}_2(p_1) - (1- p_1) \\text{log}_2(1- p_1)$$\n",
    "* Note \n",
    "    * The log is calculated with base $2$\n",
    "    * For implementation purposes, $0\\text{log}_2(0) = 0$. That is, if `p_1 = 0` or `p_1 = 1`, set the entropy to `0`\n",
    "    * Make sure to check that the data at a node is not empty (i.e. `len(y) != 0`). Return `0` if it is"
   ]
  },
  {
   "cell_type": "code",
   "execution_count": 14,
   "id": "25cf020c-fb5e-4222-829d-5a65426ef748",
   "metadata": {},
   "outputs": [],
   "source": [
    "def compute_entropy(y):\n",
    "\n",
    "    entropy = 0.0\n",
    "\n",
    "    if len(y) != 0:\n",
    "        p1 = p1 = len(y[y == 1]) / len(y) \n",
    "        if p1 != 0 and p1 != 1:\n",
    "             entropy = -p1 * np.log2(p1) - (1 - p1) * np.log2(1 - p1)\n",
    "        else:\n",
    "             entropy = 0\n",
    "      \n",
    "    return entropy\n"
   ]
  },
  {
   "cell_type": "code",
   "execution_count": 15,
   "id": "2b15575c-edca-4087-b580-152d8afbf0c7",
   "metadata": {},
   "outputs": [
    {
     "name": "stdout",
     "output_type": "stream",
     "text": [
      "enteropy: 0.8599530497177521\n"
     ]
    }
   ],
   "source": [
    "print(\"enteropy:\", compute_entropy(y_tr))"
   ]
  },
  {
   "cell_type": "code",
   "execution_count": 16,
   "id": "0835dc82-e123-4697-b5b5-7f42f9d54305",
   "metadata": {},
   "outputs": [],
   "source": [
    "def split_dataset(X, node_indices, feature):\n",
    "    \"\"\"\n",
    "    Splits the data at the given node into\n",
    "    left and right branches\n",
    "    \n",
    "    Args:\n",
    "        X (ndarray):             Data matrix of shape(n_samples, n_features)\n",
    "        node_indices (list):  List containing the active indices. I.e, the samples being considered at this step.\n",
    "        feature (int):           Index of feature to split on\n",
    "    \n",
    "    Returns:\n",
    "        left_indices (list): Indices with feature value == 1\n",
    "        right_indices (list): Indices with feature value == 0\n",
    "    \"\"\"\n",
    "    left_indices = []\n",
    "    right_indices = []\n",
    "\n",
    "    for i in node_indices:   \n",
    "        if X[i][feature] == 1:\n",
    "            left_indices.append(i)\n",
    "        else:\n",
    "            right_indices.append(i)\n",
    "        \n",
    "    return left_indices, right_indices"
   ]
  },
  {
   "cell_type": "code",
   "execution_count": 17,
   "id": "7fa52c89-053a-4ac9-9b81-afc811ac38d7",
   "metadata": {},
   "outputs": [],
   "source": [
    "total_rows = 900\n",
    "root_node_indices = np.arange(total_rows)"
   ]
  },
  {
   "cell_type": "code",
   "execution_count": 18,
   "id": "76c3154d-0cdc-41f1-98ad-66eb4b0f2659",
   "metadata": {},
   "outputs": [],
   "source": [
    "def compute_information_gain(X, y, node_indices, feature):\n",
    "    \"\"\"\n",
    "    Compute the information of splitting the node on a given feature\n",
    "    \n",
    "    Args:\n",
    "        X (ndarray):            Data matrix of shape(n_samples, n_features)\n",
    "        y (array like):         list or ndarray with n_samples containing the target variable\n",
    "        node_indices (ndarray): List containing the active indices. I.e, the samples being considered in this step.\n",
    "   \n",
    "    Returns:\n",
    "        cost (float):        Cost computed\n",
    "    \n",
    "    \"\"\"    \n",
    "    #splite dataset\n",
    "    left_indices, right_indices = split_dataset(X, node_indices, feature)\n",
    "\n",
    "    X_node, y_node = X[node_indices], y[node_indices]\n",
    "    X_left, y_left = X[left_indices], y[left_indices]\n",
    "    X_right, y_right = X[right_indices], y[right_indices]\n",
    "\n",
    "    imformation_gain = 0\n",
    "\n",
    "    node_entropy = compute_entropy(y_node)\n",
    "    left_entropy = compute_entropy(y_left)\n",
    "    right_entropy = compute_entropy(y_right)\n",
    "\n",
    "    w_left = len(X_left) / len(X_node)\n",
    "    w_right = len(X_right) / len(X_node)\n",
    "\n",
    "    weighted_entropy = w_left * left_entropy + w_right * right_entropy\n",
    "\n",
    "    #information gain\n",
    "    informtion_gain = node_entropy - weighted_entropy\n",
    "\n",
    "    return informtion_gain"
   ]
  },
  {
   "cell_type": "code",
   "execution_count": 19,
   "id": "6180e378-40f7-41a8-bd2f-d1b6414c4a48",
   "metadata": {},
   "outputs": [
    {
     "name": "stdout",
     "output_type": "stream",
     "text": [
      "Information Gain from splitting the root on Metatstatic cancer:  0.11312702326852309\n",
      "Information Gain from splitting the root on Brain tumour:  0.06542444352004118\n",
      "Information Gain from splitting the root on increase total serum celcium:  0.32477346777164195\n",
      "Information Gain from splitting the root on severe headchaches:  0.0001855079164423401\n"
     ]
    }
   ],
   "source": [
    "info_gain0 = compute_information_gain(X_tr, y_tr,root_node_indices, feature=0)\n",
    "print(\"Information Gain from splitting the root on Metatstatic cancer: \", info_gain0)\n",
    "info_gain1 = compute_information_gain(X_tr, y_tr,root_node_indices, feature=1)\n",
    "print(\"Information Gain from splitting the root on Brain tumour: \", info_gain1)\n",
    "info_gain2 = compute_information_gain(X_tr, y_tr,root_node_indices, feature=2)\n",
    "print(\"Information Gain from splitting the root on increase total serum celcium: \", info_gain2)\n",
    "info_gain3 = compute_information_gain(X_tr, y_tr,root_node_indices, feature=3)\n",
    "print(\"Information Gain from splitting the root on severe headchaches: \", info_gain3)"
   ]
  },
  {
   "cell_type": "markdown",
   "id": "8ba51149-1f69-454e-bf1c-68c566681d6c",
   "metadata": {},
   "source": [
    "Splitting on \"increase total serum celcium\" (feature = 2) at the root node gives the maximum information gain. Therefore, it's the best feature to split on at the root node."
   ]
  },
  {
   "cell_type": "code",
   "execution_count": 20,
   "id": "cd24da00-a22c-4c6c-a463-dcc3c61e977a",
   "metadata": {},
   "outputs": [],
   "source": [
    "def get_best_split(X, y, node_indices):   \n",
    "    \"\"\"\n",
    "    Returns the optimal feature and threshold value\n",
    "    to split the node data \n",
    "    \n",
    "    Args:\n",
    "        X (ndarray):            Data matrix of shape(n_samples, n_features)\n",
    "        y (array like):         list or ndarray with n_samples containing the target variable\n",
    "        node_indices (ndarray): List containing the active indices. I.e, the samples being considered in this step.\n",
    "\n",
    "    Returns:\n",
    "        best_feature (int):     The index of the best feature to split\n",
    "    \"\"\"    \n",
    "    \n",
    "    num_features = X.shape[1]\n",
    "    \n",
    "    best_feature = -1\n",
    "    \n",
    "    max_info_gain=0\n",
    "    for feature in range(num_features):\n",
    "        info_gain = compute_information_gain(X, y, node_indices, feature)\n",
    "        if info_gain > max_info_gain:\n",
    "            max_info_gain = info_gain\n",
    "            best_feature = feature\n",
    "                       \n",
    "    return best_feature"
   ]
  },
  {
   "cell_type": "code",
   "execution_count": 21,
   "id": "f92093f0-e11c-46f6-aced-d519bbc0945e",
   "metadata": {},
   "outputs": [
    {
     "name": "stdout",
     "output_type": "stream",
     "text": [
      "Best feature to split on: 2\n"
     ]
    }
   ],
   "source": [
    "best_feature = get_best_split(X_tr, y_tr, root_node_indices)\n",
    "print(\"Best feature to split on: %d\" % best_feature)"
   ]
  },
  {
   "cell_type": "code",
   "execution_count": 22,
   "id": "74ea46f9-4bb6-40ca-b895-4c5dad34ebd4",
   "metadata": {},
   "outputs": [],
   "source": [
    "tree = []\n",
    "\n",
    "def build_tree_recursive(X, y, node_indices, branch_name, max_depth, current_depth):\n",
    "    \"\"\"\n",
    "    Build a tree using the recursive algorithm that split the dataset into 2 subgroups at each node.\n",
    "    This function just prints the tree.\n",
    "    \n",
    "    Args:\n",
    "        X (ndarray):            Data matrix of shape(n_samples, n_features)\n",
    "        y (array like):         list or ndarray with n_samples containing the target variable\n",
    "        node_indices (ndarray): List containing the active indices. I.e, the samples being considered in this step.\n",
    "        branch_name (string):   Name of the branch. ['Root', 'Left', 'Right']\n",
    "        max_depth (int):        Max depth of the resulting tree. \n",
    "        current_depth (int):    Current depth. Parameter used during recursive call.\n",
    "   \n",
    "    \"\"\" \n",
    "\n",
    "    # Maximum depth reached - stop splitting\n",
    "    if current_depth == max_depth:\n",
    "        formatting = \" \"*current_depth + \"-\"*current_depth\n",
    "        print(formatting, \"%s leaf node with indices\" % branch_name, node_indices)\n",
    "        return\n",
    "   \n",
    "    # Otherwise, get best split and split the data\n",
    "    # Get the best feature and threshold at this node\n",
    "    best_feature = get_best_split(X, y, node_indices) \n",
    "    tree.append((current_depth, branch_name, best_feature, node_indices))\n",
    "    \n",
    "    formatting = \"-\"*current_depth\n",
    "    print(\"%s Depth %d, %s: Split on feature: %d\" % (formatting, current_depth, branch_name, best_feature))\n",
    "    \n",
    "    # Split the dataset at the best feature\n",
    "    left_indices, right_indices = split_dataset(X, node_indices, best_feature)\n",
    "    \n",
    "    # continue splitting the left and the right child. Increment current depth\n",
    "    build_tree_recursive(X, y, left_indices, \"Left\", max_depth, current_depth+1)\n",
    "    build_tree_recursive(X, y, right_indices, \"Right\", max_depth, current_depth+1)\n"
   ]
  },
  {
   "cell_type": "code",
   "execution_count": 23,
   "id": "d861363f-0492-492b-91cc-9f607be43de1",
   "metadata": {},
   "outputs": [
    {
     "name": "stdout",
     "output_type": "stream",
     "text": [
      " Depth 0, Root: Split on feature: 2\n",
      "- Depth 1, Left: Split on feature: 3\n",
      "-- Depth 2, Left: Split on feature: 1\n",
      "--- Depth 3, Left: Split on feature: 0\n",
      "    ---- Left leaf node with indices [1, 10, 28, 118, 119, 145, 160, 226, 244, 271, 291, 303, 306, 318, 429, 490, 528, 540, 562, 625, 637, 652, 782, 821]\n",
      "    ---- Right leaf node with indices [52, 221]\n",
      "--- Depth 3, Right: Split on feature: 0\n",
      "    ---- Left leaf node with indices [9, 15, 35, 38, 45, 55, 57, 66, 69, 94, 176, 177, 194, 195, 197, 199, 207, 218, 277, 296, 304, 316, 321, 325, 338, 352, 369, 372, 383, 388, 393, 394, 399, 401, 411, 422, 440, 467, 470, 475, 505, 539, 550, 563, 570, 603, 608, 617, 619, 693, 700, 701, 711, 724, 740, 743, 751, 759, 776, 781, 806, 844, 849, 854, 879, 888, 893, 897]\n",
      "    ---- Right leaf node with indices [2, 13, 36, 44, 53, 81, 86, 96, 102, 106, 113, 117, 159, 222, 228, 230, 233, 243, 245, 252, 260, 263, 286, 289, 297, 309, 319, 340, 341, 345, 351, 353, 417, 435, 450, 482, 487, 496, 508, 536, 537, 571, 573, 585, 588, 596, 601, 615, 634, 645, 653, 655, 668, 669, 673, 691, 722, 726, 730, 737, 738, 780, 796, 814, 820, 824, 830, 835, 836, 842, 845, 868, 869, 882, 887]\n",
      "-- Depth 2, Right: Split on feature: 1\n",
      "--- Depth 3, Left: Split on feature: 0\n",
      "    ---- Left leaf node with indices [184, 373, 517, 630, 698, 765]\n",
      "    ---- Right leaf node with indices [4]\n",
      "--- Depth 3, Right: Split on feature: 0\n",
      "    ---- Left leaf node with indices [39, 63, 72, 76, 92, 124, 139, 171, 187, 190, 193, 198, 217, 232, 269, 272, 275, 282, 305, 332, 335, 343, 387, 397, 421, 501, 510, 515, 525, 526, 534, 555, 651, 658, 694, 697, 702, 731, 763, 770, 789, 792, 799, 804, 823, 876]\n",
      "    ---- Right leaf node with indices [21, 79, 83, 95, 162, 196, 210, 229, 249, 265, 295, 302, 320, 331, 333, 344, 368, 374, 455, 461, 471, 479, 497, 507, 509, 516, 538, 546, 575, 622, 633, 664, 682, 705, 713, 723, 755, 756, 828, 859, 862, 864, 890, 894, 898]\n",
      "- Depth 1, Right: Split on feature: 1\n",
      "-- Depth 2, Left: Split on feature: 0\n",
      "--- Depth 3, Left: Split on feature: 3\n",
      "    ---- Left leaf node with indices [128, 180, 354, 365, 559, 605, 725]\n",
      "    ---- Right leaf node with indices [356, 579]\n",
      "--- Depth 3, Right: Split on feature: 3\n",
      "    ---- Left leaf node with indices [29, 97, 120, 132, 322, 406, 412, 438, 502, 551, 553, 569, 686, 687, 785, 833, 852, 875]\n",
      "    ---- Right leaf node with indices [146, 188, 204, 557, 834]\n",
      "-- Depth 2, Right: Split on feature: 0\n",
      "--- Depth 3, Left: Split on feature: 3\n",
      "    ---- Left leaf node with indices [67, 88, 108, 131, 294, 323, 381, 395, 443, 445, 503, 583, 591, 650, 695, 749, 843, 861, 865, 870]\n",
      "    ---- Right leaf node with indices [46, 200, 464, 523, 567, 672, 734, 742, 883]\n",
      "--- Depth 3, Right: Split on feature: 3\n",
      "    ---- Left leaf node with indices [0, 5, 6, 8, 12, 17, 18, 20, 22, 26, 31, 32, 33, 34, 41, 42, 47, 48, 50, 51, 54, 56, 58, 61, 64, 65, 68, 70, 73, 74, 75, 78, 82, 84, 87, 89, 90, 98, 99, 101, 105, 111, 112, 114, 115, 122, 125, 127, 130, 134, 137, 140, 141, 142, 143, 148, 151, 152, 154, 155, 156, 158, 164, 167, 168, 169, 170, 172, 174, 175, 178, 179, 181, 183, 185, 186, 191, 202, 205, 208, 211, 214, 215, 216, 219, 223, 225, 227, 231, 235, 237, 240, 241, 246, 247, 253, 256, 257, 259, 261, 273, 278, 279, 280, 283, 284, 285, 290, 298, 301, 307, 308, 310, 311, 314, 315, 317, 324, 326, 330, 334, 337, 339, 347, 348, 359, 360, 361, 364, 366, 371, 375, 378, 379, 382, 389, 390, 391, 396, 398, 400, 404, 408, 409, 413, 415, 418, 420, 424, 428, 430, 431, 432, 437, 441, 444, 446, 448, 449, 451, 453, 454, 456, 457, 458, 460, 465, 466, 468, 473, 474, 477, 478, 483, 485, 486, 488, 489, 493, 498, 499, 500, 504, 514, 518, 519, 520, 521, 527, 532, 533, 535, 542, 543, 544, 545, 547, 548, 549, 552, 554, 558, 560, 561, 564, 565, 568, 572, 574, 577, 578, 580, 581, 582, 586, 589, 590, 592, 593, 594, 597, 602, 604, 607, 609, 610, 611, 612, 613, 614, 621, 623, 624, 627, 629, 631, 632, 635, 636, 638, 640, 641, 643, 646, 654, 656, 657, 659, 661, 662, 663, 665, 666, 670, 674, 675, 676, 677, 679, 680, 681, 684, 689, 692, 699, 703, 706, 712, 714, 715, 716, 717, 718, 719, 720, 721, 727, 728, 729, 739, 744, 746, 750, 752, 754, 758, 760, 762, 764, 766, 767, 768, 779, 783, 784, 786, 790, 794, 795, 800, 801, 803, 805, 809, 810, 813, 815, 817, 819, 822, 827, 829, 831, 832, 837, 840, 841, 846, 853, 855, 856, 857, 860, 863, 872, 874, 877, 878, 881, 884, 885, 886, 892, 895, 896, 899]\n",
      "    ---- Right leaf node with indices [3, 7, 11, 14, 16, 19, 23, 24, 25, 27, 30, 37, 40, 43, 49, 59, 60, 62, 71, 77, 80, 85, 91, 93, 100, 103, 104, 107, 109, 110, 116, 121, 123, 126, 129, 133, 135, 136, 138, 144, 147, 149, 150, 153, 157, 161, 163, 165, 166, 173, 182, 189, 192, 201, 203, 206, 209, 212, 213, 220, 224, 234, 236, 238, 239, 242, 248, 250, 251, 254, 255, 258, 262, 264, 266, 267, 268, 270, 274, 276, 281, 287, 288, 292, 293, 299, 300, 312, 313, 327, 328, 329, 336, 342, 346, 349, 350, 355, 357, 358, 362, 363, 367, 370, 376, 377, 380, 384, 385, 386, 392, 402, 403, 405, 407, 410, 414, 416, 419, 423, 425, 426, 427, 433, 434, 436, 439, 442, 447, 452, 459, 462, 463, 469, 472, 476, 480, 481, 484, 491, 492, 494, 495, 506, 511, 512, 513, 522, 524, 529, 530, 531, 541, 556, 566, 576, 584, 587, 595, 598, 599, 600, 606, 616, 618, 620, 626, 628, 639, 642, 644, 647, 648, 649, 660, 667, 671, 678, 683, 685, 688, 690, 696, 704, 707, 708, 709, 710, 732, 733, 735, 736, 741, 745, 747, 748, 753, 757, 761, 769, 771, 772, 773, 774, 775, 777, 778, 787, 788, 791, 793, 797, 798, 802, 807, 808, 811, 812, 816, 818, 825, 826, 838, 839, 847, 848, 850, 851, 858, 866, 867, 871, 873, 880, 889, 891]\n"
     ]
    }
   ],
   "source": [
    "build_tree_recursive(X_tr, y_tr, root_node_indices, \"Root\", max_depth=4, current_depth=0)"
   ]
  },
  {
   "cell_type": "markdown",
   "id": "13c347da-efc4-4154-aefa-8eac1eb3528e",
   "metadata": {},
   "source": [
    "### Artificialneura  network model "
   ]
  },
  {
   "cell_type": "code",
   "execution_count": 3,
   "id": "fd851981-3eb2-47f4-ab4d-b500e5c2169d",
   "metadata": {},
   "outputs": [],
   "source": [
    "# Fully connected neural network with one hidden layer\n",
    "class FFNet(nn.Module):\n",
    "    def __init__(self, input_size, hidden_size, num_classes):\n",
    "        super(FFNet, self).__init__()\n",
    "        self.fc1 = nn.Linear(input_size, hidden_size)  # First hidden layer\n",
    "        self.relu = nn.ReLU()\n",
    "        self.fc2 = nn.Linear(hidden_size, num_classes)  # Output layer\n",
    "\n",
    "    def forward(self, x):\n",
    "        out = self.fc1(x)\n",
    "        out = self.relu(out)\n",
    "        out = self.fc2(out)\n",
    "        return torch.sigmoid(out).squeeze(1)  # Apply sigmoid to constrain outputs to 0-1\n",
    "learning_rate = 0.01\n",
    "model = FFNet(4,32,2)\n",
    "criterion = nn.BCELoss()\n",
    "optimizer = torch.optim.SGD(model.parameters(), learning_rate)"
   ]
  },
  {
   "cell_type": "code",
   "execution_count": 15,
   "id": "265fafaf-962c-46d4-aec3-b54b261676ac",
   "metadata": {},
   "outputs": [
    {
     "ename": "ValueError",
     "evalue": "too many values to unpack (expected 2)",
     "output_type": "error",
     "traceback": [
      "\u001b[1;31m---------------------------------------------------------------------------\u001b[0m",
      "\u001b[1;31mValueError\u001b[0m                                Traceback (most recent call last)",
      "Cell \u001b[1;32mIn[15], line 5\u001b[0m\n\u001b[0;32m      2\u001b[0m num_epochs \u001b[38;5;241m=\u001b[39m \u001b[38;5;241m3000\u001b[39m\n\u001b[0;32m      4\u001b[0m \u001b[38;5;28;01mfor\u001b[39;00m epoch \u001b[38;5;129;01min\u001b[39;00m \u001b[38;5;28mrange\u001b[39m(num_epochs):\n\u001b[1;32m----> 5\u001b[0m     \u001b[38;5;28;01mfor\u001b[39;00m X_batch, y_batch \u001b[38;5;129;01min\u001b[39;00m X_tr:\n\u001b[0;32m      6\u001b[0m         optimizer\u001b[38;5;241m.\u001b[39mzero_grad()\n\u001b[0;32m      7\u001b[0m         y_pred \u001b[38;5;241m=\u001b[39m model(X_batch)\n",
      "\u001b[1;31mValueError\u001b[0m: too many values to unpack (expected 2)"
     ]
    }
   ],
   "source": [
    "# Training loop\n",
    "num_epochs = 3000\n",
    "\n",
    "for epoch in range(num_epochs):\n",
    "    for X_batch, y_batch in X_tr:\n",
    "        optimizer.zero_grad()\n",
    "        y_pred = model(X_batch)\n",
    "        loss = criterion(y_pred.view(-1),y_batch)\n",
    "        loss.backward()\n",
    "        optimizer.step()\n",
    "        if (epoch + 1) % 100 == 0:\n",
    "          print(f'Epoch [{epoch+1}/{num_epochs}], Loss: {loss.item():.4f}')\n",
    "\n",
    "with torch.no_grad():\n",
    "    for X_batch, y_batch in test_loader:\n",
    "        test_pred = model(X_batch)\n",
    "        pre = (test_pred > 0.5).float()\n",
    "        accuracy = (pre == y_batch).float().mean()\n",
    "\n",
    "print(f'Accuracy on test set: {accuracy.item():.4f}')"
   ]
  },
  {
   "cell_type": "code",
   "execution_count": null,
   "id": "135d9868-8e8d-47d2-b0f0-38db5e4184d8",
   "metadata": {},
   "outputs": [],
   "source": []
  }
 ],
 "metadata": {
  "kernelspec": {
   "display_name": "Python 3 (ipykernel)",
   "language": "python",
   "name": "python3"
  },
  "language_info": {
   "codemirror_mode": {
    "name": "ipython",
    "version": 3
   },
   "file_extension": ".py",
   "mimetype": "text/x-python",
   "name": "python",
   "nbconvert_exporter": "python",
   "pygments_lexer": "ipython3",
   "version": "3.11.7"
  }
 },
 "nbformat": 4,
 "nbformat_minor": 5
}
